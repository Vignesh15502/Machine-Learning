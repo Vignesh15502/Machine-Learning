{
  "nbformat": 4,
  "nbformat_minor": 0,
  "metadata": {
    "colab": {
      "provenance": []
    },
    "kernelspec": {
      "name": "python3",
      "display_name": "Python 3"
    },
    "language_info": {
      "name": "python"
    }
  },
  "cells": [
    {
      "cell_type": "code",
      "execution_count": 2,
      "metadata": {
        "id": "o04Dbw-EUkXl"
      },
      "outputs": [],
      "source": [
        "import numpy as np\n",
        "from time import process_time"
      ]
    },
    {
      "cell_type": "code",
      "source": [
        "python_list= [i for i in range(10000)]\n",
        "\n",
        "start_time= process_time()\n",
        "\n",
        "python_list= [i+5 for i in python_list]\n",
        "\n",
        "end_time= process_time()\n",
        "\n",
        "print(end_time - start_time)"
      ],
      "metadata": {
        "colab": {
          "base_uri": "https://localhost:8080/"
        },
        "id": "q-g7SkpQUwi-",
        "outputId": "c57173a8-b374-4536-f372-36280fdd7ee9"
      },
      "execution_count": 3,
      "outputs": [
        {
          "output_type": "stream",
          "name": "stdout",
          "text": [
            "0.0015812969999999815\n"
          ]
        }
      ]
    },
    {
      "cell_type": "code",
      "source": [
        "np_array= np.array([i for i in range(10000)])\n",
        "\n",
        "start_time= process_time()\n",
        "\n",
        "np_array += 5\n",
        "\n",
        "end_time= process_time()\n",
        "\n",
        "print(end_time - start_time)"
      ],
      "metadata": {
        "colab": {
          "base_uri": "https://localhost:8080/"
        },
        "id": "bgN67MHIVYAd",
        "outputId": "d3fdf9a7-edd5-4acf-839b-186f12506d48"
      },
      "execution_count": 4,
      "outputs": [
        {
          "output_type": "stream",
          "name": "stdout",
          "text": [
            "0.0004072520000000246\n"
          ]
        }
      ]
    },
    {
      "cell_type": "markdown",
      "source": [
        "# Creating a arrays"
      ],
      "metadata": {
        "id": "nsTxo5_nYC0V"
      }
    },
    {
      "cell_type": "code",
      "source": [
        "a= np.array([1,2,3,4,5])\n",
        "print(a)\n",
        "print(type(a))\n",
        "a.shape"
      ],
      "metadata": {
        "colab": {
          "base_uri": "https://localhost:8080/"
        },
        "id": "KlpERdhlVz4R",
        "outputId": "62752496-57c6-4cc3-a421-8c856440e8fd"
      },
      "execution_count": 5,
      "outputs": [
        {
          "output_type": "stream",
          "name": "stdout",
          "text": [
            "[1 2 3 4 5]\n",
            "<class 'numpy.ndarray'>\n"
          ]
        },
        {
          "output_type": "execute_result",
          "data": {
            "text/plain": [
              "(5,)"
            ]
          },
          "metadata": {},
          "execution_count": 5
        }
      ]
    },
    {
      "cell_type": "code",
      "source": [
        "b= np.array([(1,2,3,4,5),(6,7,8,9,0)])\n",
        "print(b)\n",
        "print(type(b))\n",
        "b.shape"
      ],
      "metadata": {
        "colab": {
          "base_uri": "https://localhost:8080/"
        },
        "id": "04c13PR-YOoW",
        "outputId": "072a8aca-f5c7-4d8e-e1ad-cedc20c768f6"
      },
      "execution_count": 6,
      "outputs": [
        {
          "output_type": "stream",
          "name": "stdout",
          "text": [
            "[[1 2 3 4 5]\n",
            " [6 7 8 9 0]]\n",
            "<class 'numpy.ndarray'>\n"
          ]
        },
        {
          "output_type": "execute_result",
          "data": {
            "text/plain": [
              "(2, 5)"
            ]
          },
          "metadata": {},
          "execution_count": 6
        }
      ]
    },
    {
      "cell_type": "code",
      "source": [
        "c= np.array([(1,2,3,4,5),(6,7,8,9,0)],dtype= float)\n",
        "print(c)\n",
        "print(type(c))\n",
        "c.shape"
      ],
      "metadata": {
        "colab": {
          "base_uri": "https://localhost:8080/"
        },
        "id": "FMRxtYvQYZaZ",
        "outputId": "5a11a444-ec72-4cce-d0a0-8b12a61fbc96"
      },
      "execution_count": 7,
      "outputs": [
        {
          "output_type": "stream",
          "name": "stdout",
          "text": [
            "[[1. 2. 3. 4. 5.]\n",
            " [6. 7. 8. 9. 0.]]\n",
            "<class 'numpy.ndarray'>\n"
          ]
        },
        {
          "output_type": "execute_result",
          "data": {
            "text/plain": [
              "(2, 5)"
            ]
          },
          "metadata": {},
          "execution_count": 7
        }
      ]
    },
    {
      "cell_type": "markdown",
      "source": [
        "# Inicial placeholders with zero"
      ],
      "metadata": {
        "id": "9P0eC8h_Zg4M"
      }
    },
    {
      "cell_type": "code",
      "source": [
        "#Creating a array with zeros\n",
        "x= np.zeros((4,5))\n",
        "print(x)"
      ],
      "metadata": {
        "colab": {
          "base_uri": "https://localhost:8080/"
        },
        "id": "eW1j2J47ZlNe",
        "outputId": "80362d92-3e0d-497b-8de9-cdba98120f12"
      },
      "execution_count": 8,
      "outputs": [
        {
          "output_type": "stream",
          "name": "stdout",
          "text": [
            "[[0. 0. 0. 0. 0.]\n",
            " [0. 0. 0. 0. 0.]\n",
            " [0. 0. 0. 0. 0.]\n",
            " [0. 0. 0. 0. 0.]]\n"
          ]
        }
      ]
    },
    {
      "cell_type": "code",
      "source": [
        "#Creating a array with ones\n",
        "y = np.ones((3,3))\n",
        "print(y)"
      ],
      "metadata": {
        "colab": {
          "base_uri": "https://localhost:8080/"
        },
        "id": "zY5kSSbgZVQ-",
        "outputId": "dba56741-abe3-4f8d-8278-1fe8c42b0d43"
      },
      "execution_count": 9,
      "outputs": [
        {
          "output_type": "stream",
          "name": "stdout",
          "text": [
            "[[1. 1. 1.]\n",
            " [1. 1. 1.]\n",
            " [1. 1. 1.]]\n"
          ]
        }
      ]
    },
    {
      "cell_type": "code",
      "source": [
        "#Creating a array with perticular value\n",
        "z= np.full((4,5),5)\n",
        "print(z)"
      ],
      "metadata": {
        "colab": {
          "base_uri": "https://localhost:8080/"
        },
        "id": "Bq_Ie_craXCJ",
        "outputId": "075a84c2-5371-4b63-cfb8-82eefdd27c20"
      },
      "execution_count": 10,
      "outputs": [
        {
          "output_type": "stream",
          "name": "stdout",
          "text": [
            "[[5 5 5 5 5]\n",
            " [5 5 5 5 5]\n",
            " [5 5 5 5 5]\n",
            " [5 5 5 5 5]]\n"
          ]
        }
      ]
    },
    {
      "cell_type": "code",
      "source": [
        "#Creating a identity matrix\n",
        "a= np.eye(5)\n",
        "print(a)"
      ],
      "metadata": {
        "colab": {
          "base_uri": "https://localhost:8080/"
        },
        "id": "XNULS7d3bVMA",
        "outputId": "c82e1227-9f2e-4f67-b329-584cea0f5862"
      },
      "execution_count": 11,
      "outputs": [
        {
          "output_type": "stream",
          "name": "stdout",
          "text": [
            "[[1. 0. 0. 0. 0.]\n",
            " [0. 1. 0. 0. 0.]\n",
            " [0. 0. 1. 0. 0.]\n",
            " [0. 0. 0. 1. 0.]\n",
            " [0. 0. 0. 0. 1.]]\n"
          ]
        }
      ]
    },
    {
      "cell_type": "code",
      "source": [
        "#Creating a array with random values\n",
        "b= np.random.random((3,4))\n",
        "print(b)"
      ],
      "metadata": {
        "colab": {
          "base_uri": "https://localhost:8080/"
        },
        "id": "CQC1cj4ObzKf",
        "outputId": "35e0e925-da81-488f-b027-e29ac8339a7b"
      },
      "execution_count": 12,
      "outputs": [
        {
          "output_type": "stream",
          "name": "stdout",
          "text": [
            "[[0.90976647 0.71361707 0.75560729 0.72038672]\n",
            " [0.92082231 0.4712971  0.28900003 0.50921834]\n",
            " [0.95674042 0.70596626 0.09062506 0.87190001]]\n"
          ]
        }
      ]
    },
    {
      "cell_type": "code",
      "source": [
        "#random integer value with in a specific value\n",
        "c= np.random.randint(20,200,(5,4))\n",
        "print(c)"
      ],
      "metadata": {
        "id": "vwNorClycBCI",
        "colab": {
          "base_uri": "https://localhost:8080/"
        },
        "outputId": "28998ede-da8e-4b32-b826-cbfbd1babc83"
      },
      "execution_count": 16,
      "outputs": [
        {
          "output_type": "stream",
          "name": "stdout",
          "text": [
            "[[ 44  46  96 139]\n",
            " [196 155  92 122]\n",
            " [ 42 101 100  94]\n",
            " [137 183 136 187]\n",
            " [ 59  45 108  34]]\n"
          ]
        }
      ]
    },
    {
      "cell_type": "code",
      "source": [
        "#array of evenly spaced values\n",
        "d= np.linspace(10,30,5)\n",
        "print(d)"
      ],
      "metadata": {
        "colab": {
          "base_uri": "https://localhost:8080/"
        },
        "id": "tGl9jsZP0fpQ",
        "outputId": "e92029a9-3e00-45cd-bcfe-8ee26a08e6d4"
      },
      "execution_count": 21,
      "outputs": [
        {
          "output_type": "stream",
          "name": "stdout",
          "text": [
            "[10. 15. 20. 25. 30.]\n"
          ]
        }
      ]
    },
    {
      "cell_type": "code",
      "source": [
        "#arrange of evenly spaced values --> specifing the step\n",
        "e= np.arange(10,30,5)\n",
        "print(e)"
      ],
      "metadata": {
        "colab": {
          "base_uri": "https://localhost:8080/"
        },
        "id": "STNvtdFh1GIW",
        "outputId": "29262c46-d6d9-4b6d-f2d2-96475b91e9f2"
      },
      "execution_count": 25,
      "outputs": [
        {
          "output_type": "stream",
          "name": "stdout",
          "text": [
            "[10 15 20 25]\n"
          ]
        }
      ]
    },
    {
      "cell_type": "code",
      "source": [
        "#convert a list to a numpy array\n",
        "list2= [10,20,30,40,50]\n",
        "np_array= np.asarray(list2)\n",
        "print(np_array)\n",
        "type(np_array)"
      ],
      "metadata": {
        "colab": {
          "base_uri": "https://localhost:8080/"
        },
        "id": "vZYyiT_V1z6c",
        "outputId": "1c8da8f7-ed54-429a-be18-fdda58b3aaf3"
      },
      "execution_count": 27,
      "outputs": [
        {
          "output_type": "stream",
          "name": "stdout",
          "text": [
            "[10 20 30 40 50]\n"
          ]
        },
        {
          "output_type": "execute_result",
          "data": {
            "text/plain": [
              "numpy.ndarray"
            ]
          },
          "metadata": {},
          "execution_count": 27
        }
      ]
    },
    {
      "cell_type": "markdown",
      "source": [
        "# Analysing the nparray"
      ],
      "metadata": {
        "id": "Q09_jljF2-Yf"
      }
    },
    {
      "cell_type": "code",
      "source": [
        "a= np.random.randint(10,90,(5,5))\n",
        "print(a)\n",
        "print(\"\")\n",
        "print(a.shape)"
      ],
      "metadata": {
        "colab": {
          "base_uri": "https://localhost:8080/"
        },
        "id": "kGAc5oAT2vs8",
        "outputId": "aa810fa4-c4ca-4974-95c5-885fe8ef4162"
      },
      "execution_count": 30,
      "outputs": [
        {
          "output_type": "stream",
          "name": "stdout",
          "text": [
            "[[39 22 85 69 42]\n",
            " [70 77 81 24 56]\n",
            " [49 19 42 86 69]\n",
            " [50 38 29 59 86]\n",
            " [44 14 61 48 68]]\n",
            "\n",
            "(5, 5)\n"
          ]
        }
      ]
    },
    {
      "cell_type": "code",
      "source": [
        "#checking the number of diamentions\n",
        "print(np.ndim(a))"
      ],
      "metadata": {
        "colab": {
          "base_uri": "https://localhost:8080/"
        },
        "id": "bdwAeHZQ361L",
        "outputId": "e2777ff6-2ffb-4096-ef15-57b4be0c6b6d"
      },
      "execution_count": 33,
      "outputs": [
        {
          "output_type": "stream",
          "name": "stdout",
          "text": [
            "2\n"
          ]
        }
      ]
    },
    {
      "cell_type": "code",
      "source": [
        "#number of elements in an array\n",
        "print(a.size)"
      ],
      "metadata": {
        "colab": {
          "base_uri": "https://localhost:8080/"
        },
        "id": "vnJwjV8T4nL0",
        "outputId": "8b8ce3e7-2b69-46e2-c3f2-d81f308969ea"
      },
      "execution_count": 34,
      "outputs": [
        {
          "output_type": "stream",
          "name": "stdout",
          "text": [
            "25\n"
          ]
        }
      ]
    },
    {
      "cell_type": "code",
      "source": [
        "#checking the datatype\n",
        "print(a.dtype)"
      ],
      "metadata": {
        "colab": {
          "base_uri": "https://localhost:8080/"
        },
        "id": "p0NVv1Eg4s7s",
        "outputId": "9c470292-1fcf-439b-9bd3-f22ca9a916d8"
      },
      "execution_count": 35,
      "outputs": [
        {
          "output_type": "stream",
          "name": "stdout",
          "text": [
            "int64\n"
          ]
        }
      ]
    },
    {
      "cell_type": "markdown",
      "source": [
        "# Mathematical operations on a np array"
      ],
      "metadata": {
        "id": "AdBnU1Uv5hJd"
      }
    },
    {
      "cell_type": "code",
      "source": [
        "list1 = [1,2,3,4,5]\n",
        "list2 = [6,7,8,9,0]\n",
        "\n",
        "print(list1 + list2) #concadinating or joins the two lists"
      ],
      "metadata": {
        "colab": {
          "base_uri": "https://localhost:8080/"
        },
        "id": "CRS5nCJx5g7L",
        "outputId": "718a0641-c087-40bd-e157-809648786d66"
      },
      "execution_count": 37,
      "outputs": [
        {
          "output_type": "stream",
          "name": "stdout",
          "text": [
            "[1, 2, 3, 4, 5, 6, 7, 8, 9, 0]\n"
          ]
        }
      ]
    },
    {
      "cell_type": "code",
      "source": [
        "a= np.random.randint(10,20,(4,4))\n",
        "b= np.random.randint(20,30,(4,4))\n",
        "\n",
        "print(a)\n",
        "print(\"\")\n",
        "print(b)\n",
        "print(\"\")\n",
        "print(a+b)\n",
        "print(\"\")\n",
        "print(a-b)\n",
        "print(\"\")\n",
        "print(a*b)\n",
        "print(\"\")\n",
        "print(a/b)"
      ],
      "metadata": {
        "colab": {
          "base_uri": "https://localhost:8080/"
        },
        "id": "aD4RgVvZ7A1z",
        "outputId": "ab174033-324b-421e-8301-79e60e3c65f9"
      },
      "execution_count": 41,
      "outputs": [
        {
          "output_type": "stream",
          "name": "stdout",
          "text": [
            "[[16 18 15 17]\n",
            " [19 10 13 15]\n",
            " [12 18 11 10]\n",
            " [14 17 14 15]]\n",
            "\n",
            "[[20 25 27 20]\n",
            " [20 22 21 28]\n",
            " [22 23 28 23]\n",
            " [26 25 27 24]]\n",
            "\n",
            "[[36 43 42 37]\n",
            " [39 32 34 43]\n",
            " [34 41 39 33]\n",
            " [40 42 41 39]]\n",
            "\n",
            "[[ -4  -7 -12  -3]\n",
            " [ -1 -12  -8 -13]\n",
            " [-10  -5 -17 -13]\n",
            " [-12  -8 -13  -9]]\n",
            "\n",
            "[[320 450 405 340]\n",
            " [380 220 273 420]\n",
            " [264 414 308 230]\n",
            " [364 425 378 360]]\n",
            "\n",
            "[[0.8        0.72       0.55555556 0.85      ]\n",
            " [0.95       0.45454545 0.61904762 0.53571429]\n",
            " [0.54545455 0.7826087  0.39285714 0.43478261]\n",
            " [0.53846154 0.68       0.51851852 0.625     ]]\n"
          ]
        }
      ]
    },
    {
      "cell_type": "code",
      "source": [
        "print(np.add(a,b))\n",
        "print(\"\")\n",
        "print(np.subtract(a,b))\n",
        "print(\"\")\n",
        "print(np.multiply(a,b))\n",
        "print(\"\")\n",
        "print(np.divide(a,b))"
      ],
      "metadata": {
        "colab": {
          "base_uri": "https://localhost:8080/"
        },
        "id": "3CJfE0_J7m1j",
        "outputId": "c82f47d5-edad-47f4-b986-30ad15e42f4e"
      },
      "execution_count": 42,
      "outputs": [
        {
          "output_type": "stream",
          "name": "stdout",
          "text": [
            "[[36 43 42 37]\n",
            " [39 32 34 43]\n",
            " [34 41 39 33]\n",
            " [40 42 41 39]]\n",
            "\n",
            "[[ -4  -7 -12  -3]\n",
            " [ -1 -12  -8 -13]\n",
            " [-10  -5 -17 -13]\n",
            " [-12  -8 -13  -9]]\n",
            "\n",
            "[[320 450 405 340]\n",
            " [380 220 273 420]\n",
            " [264 414 308 230]\n",
            " [364 425 378 360]]\n",
            "\n",
            "[[0.8        0.72       0.55555556 0.85      ]\n",
            " [0.95       0.45454545 0.61904762 0.53571429]\n",
            " [0.54545455 0.7826087  0.39285714 0.43478261]\n",
            " [0.53846154 0.68       0.51851852 0.625     ]]\n"
          ]
        }
      ]
    },
    {
      "cell_type": "markdown",
      "source": [
        "# Array Manipulation"
      ],
      "metadata": {
        "id": "w2vc-7qX8mIY"
      }
    },
    {
      "cell_type": "code",
      "source": [
        "array = np.random.randint(0,10,(2,3))\n",
        "print(array)\n",
        "array.shape"
      ],
      "metadata": {
        "colab": {
          "base_uri": "https://localhost:8080/"
        },
        "id": "QZKLrDlY9EM_",
        "outputId": "3011dcb8-116b-4c23-94e7-5ea9ad2cca61"
      },
      "execution_count": 53,
      "outputs": [
        {
          "output_type": "stream",
          "name": "stdout",
          "text": [
            "[[3 4 2]\n",
            " [9 1 1]]\n"
          ]
        },
        {
          "output_type": "execute_result",
          "data": {
            "text/plain": [
              "(2, 3)"
            ]
          },
          "metadata": {},
          "execution_count": 53
        }
      ]
    },
    {
      "cell_type": "code",
      "source": [
        "#transpose\n",
        "trans= np.transpose(array)\n",
        "print(trans)\n",
        "print(\"\")\n",
        "trans.shape"
      ],
      "metadata": {
        "colab": {
          "base_uri": "https://localhost:8080/"
        },
        "id": "Fqcs9d9C9RaQ",
        "outputId": "11723bd6-3928-4e7e-8efb-2148698997f1"
      },
      "execution_count": 54,
      "outputs": [
        {
          "output_type": "stream",
          "name": "stdout",
          "text": [
            "[[3 9]\n",
            " [4 1]\n",
            " [2 1]]\n",
            "\n"
          ]
        },
        {
          "output_type": "execute_result",
          "data": {
            "text/plain": [
              "(3, 2)"
            ]
          },
          "metadata": {},
          "execution_count": 54
        }
      ]
    },
    {
      "cell_type": "code",
      "source": [
        "array = np.random.randint(0,10,(2,3))\n",
        "print(array)\n",
        "array.shape"
      ],
      "metadata": {
        "colab": {
          "base_uri": "https://localhost:8080/"
        },
        "id": "lRHSwimr_emH",
        "outputId": "8ea97260-758f-43d3-de9d-8d7d5ee5eb48"
      },
      "execution_count": 55,
      "outputs": [
        {
          "output_type": "stream",
          "name": "stdout",
          "text": [
            "[[4 7 5]\n",
            " [2 0 3]]\n"
          ]
        },
        {
          "output_type": "execute_result",
          "data": {
            "text/plain": [
              "(2, 3)"
            ]
          },
          "metadata": {},
          "execution_count": 55
        }
      ]
    },
    {
      "cell_type": "code",
      "source": [
        "trans2= array.T\n",
        "print(trans2)\n",
        "print(\"\")\n",
        "print(trans2.shape)"
      ],
      "metadata": {
        "colab": {
          "base_uri": "https://localhost:8080/"
        },
        "id": "Z4Q_o3Zb950e",
        "outputId": "f9c55891-0999-4ffd-c40b-a819af6bc2c5"
      },
      "execution_count": 56,
      "outputs": [
        {
          "output_type": "stream",
          "name": "stdout",
          "text": [
            "[[4 2]\n",
            " [7 0]\n",
            " [5 3]]\n",
            "\n",
            "(3, 2)\n"
          ]
        }
      ]
    },
    {
      "cell_type": "code",
      "source": [
        "#reshaping an array\n",
        "a= np.random.randint(0,10,(3,2))\n",
        "print(a)\n",
        "print(\"\")\n",
        "print(a.shape)"
      ],
      "metadata": {
        "colab": {
          "base_uri": "https://localhost:8080/"
        },
        "id": "W5BfUDkRAFhK",
        "outputId": "120f4c13-49b5-416f-fcba-dd8ef091183e"
      },
      "execution_count": 58,
      "outputs": [
        {
          "output_type": "stream",
          "name": "stdout",
          "text": [
            "[[6 1]\n",
            " [4 5]\n",
            " [1 7]]\n",
            "\n",
            "(3, 2)\n"
          ]
        }
      ]
    },
    {
      "cell_type": "code",
      "source": [
        "b= a.reshape(2,3)\n",
        "print(b)\n",
        "print(\"\")\n",
        "print(b.shape)"
      ],
      "metadata": {
        "colab": {
          "base_uri": "https://localhost:8080/"
        },
        "id": "yHo_JLZOAThq",
        "outputId": "425731ef-7edc-4903-c28f-47e5591caeb1"
      },
      "execution_count": 62,
      "outputs": [
        {
          "output_type": "stream",
          "name": "stdout",
          "text": [
            "[[6 1 4]\n",
            " [5 1 7]]\n",
            "\n",
            "(2, 3)\n"
          ]
        }
      ]
    }
  ]
}